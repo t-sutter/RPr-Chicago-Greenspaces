{
 "cells": [
  {
   "cell_type": "markdown",
   "metadata": {
    "id": "7gUZzqUXf91d"
   },
   "source": [
    "# Analysis\n"
   ]
  },
  {
   "cell_type": "markdown",
   "metadata": {
    "id": "ynQbJHvcVm55"
   },
   "source": [
    "Version 0.1.0 \\| First Created Decmeber 1, 2023 \\| Updated December 19, 2023\n",
    "\n",
    "## Jupyter Notebook\n",
    "\n",
    "This is an Jupyter Notebook document. For more details on using a Jupyter Notebook see <https://docs.jupyter.org/en/latest/>.\n",
    "\n"
   ]
  },
  {
   "cell_type": "markdown",
   "metadata": {},
   "source": [
    "# Reproduction of Middlebury College's GIS Green Space Access in Chicago Lab\n",
    "\n",
    "### Authors\n",
    "\n",
    "- Tate Sutter\\*, tsutter@middlebury.edu, @t-sutter, Middlebury College\n",
    "\n",
    "\\* Corresponding author and creator\n",
    "\n"
   ]
  },
  {
   "cell_type": "markdown",
   "metadata": {},
   "source": [
    "### Abstract\n",
    "\n",
    "This study is a *replication* of:\n",
    "\n",
    "> [Week 07 Lab: Urban Environmental Justice of Green Space Access in Chicago](https://github.com/t-sutter/RPr-Chicago-Greenspaces/blob/main/docs/report/originalStudy.pdf), Human Geography with GIS, Middlebury College\n",
    "\n",
    "The study replicates the lab *Urban Environmental Justice of Green Space Access in Chicago* within a Python coding language environment. The study reproduces an analysis of inhabitants' access to green space in Chicago. The original lab was performed in QGIS. The reproduction compares the geospatial tools of QGIS and the GeoPandas Python package and transitions the analysis from a graphical user interface (GUI) system to script based system. \n"
   ]
  },
  {
   "cell_type": "markdown",
   "metadata": {},
   "source": [
    "### Study metadata\n",
    "\n",
    "- `Key words`: Urban Geography, Green Spaces, Chicago, Reproducibility, Open Science, Geospatial Python.\n",
    "- `Subject`: Human Geography\n",
    "- `Date created`: December 1, 2023. \n",
    "- `Date modified`: December 18, 2023.\n",
    "- `Spatial Coverage`: Chicago, Illinois.\n",
    "- `Spatial Resolution`: Census Block and Tract.\n",
    "- `Spatial Reference System`: EPSG:6454\n",
    "- `Temporal Coverage`: 2010\n",
    "- `Temporal Resolution`: This study does not address change over time. \n",
    "\n",
    "#### Original study spatio-temporal metadata\n",
    "\n",
    "- `Spatial Coverage`: Chicago, Illinois.\n",
    "- `Spatial Resolution`: Census Block and Tract.\n",
    "- `Spatial Reference System`: EPSG:6454\n",
    "- `Temporal Coverage`: 2010\n",
    "- `Temporal Resolution`: This study does not address change over time. \n"
   ]
  },
  {
   "cell_type": "markdown",
   "metadata": {},
   "source": [
    "## Study design\n",
    "\n",
    "This study is a reproduction of an [observational lab](https://github.com/t-sutter/RPr-Chicago-Greenspaces/blob/main/docs/report/originalStudy.pdf) from the Middlebury College Department of Geography course Human Geography with GIS. The lab sought to replicate [*Wolch, Wilson and Fehrenbach's (2005)*](https://doi.org/10.2747/0272-3638.26.1.4) measurements of park space by racial groups at the census tract level in Los Angeles. The original lab deviates from *Wolch, Wilson, and Fehrenbach* initial study design. Chicago becomes the study extent. Access is grouped by racial majority group (>60%) per Census tract instead of varying racial breakdowns. The reproduction study contributes to the growing body of research working to improve [reproducibility](https://doi.org/10.1080/24694452.2020.1806029) and [replicability](https://doi.org/10.1080/24694452.2020.1806026) within GIS as a discipline and GIScience. The impermanence of public access to data, changes to GIS softwares, and lack of documentation of computational environments increases the difficulty to reproduce or replicate existing studies. \n",
    "\n",
    "In this reproduction study, I hypothesize that the original analysis performed in QGIS can be reproduced within a Python environment utilizing the GeoPandas geoprocessing package. To check my hypothesis, I compare the original results table with the one created in the reproduction.\n",
    "\n"
   ]
  },
  {
   "cell_type": "markdown",
   "metadata": {
    "id": "lpUbJuwsgQJu"
   },
   "source": [
    "## Computational environment\n",
    "\n",
    "The reproduction study is run on a 2020 MacBook Pro with a 2.3 GHz Quad-Core Intel Core i7 processor and 16 GB 3733 MHz LPDDR4X. The computer employs the Sonoma 14.2 macOS operating system. The analysis is performed in JupyterLab 4.0.8 and utilizes Python 3.\n",
    "\n",
    "The most important packages used are geopandas and pandas. The reproduction is built upon the two.\n",
    "\n",
    "Maintaining a reproducible computational environment requires some conscious choices in package management.\n",
    "\n",
    "Please refer to `00-Python-environment-setup.ipynb` for details.\n",
    "\n"
   ]
  },
  {
   "cell_type": "code",
   "execution_count": 1,
   "metadata": {},
   "outputs": [
    {
     "name": "stdout",
     "output_type": "stream",
     "text": [
      "Requirement already satisfied: pandas==2.1.3 in /Users/tatesutter/anaconda3/envs/chicago-green/lib/python3.11/site-packages (from -r ../environment/requirements.txt (line 1)) (2.1.3)\n",
      "Requirement already satisfied: geopandas==0.14.1 in /Users/tatesutter/anaconda3/envs/chicago-green/lib/python3.11/site-packages (from -r ../environment/requirements.txt (line 2)) (0.14.1)\n",
      "Requirement already satisfied: pyhere==1.0.0 in /Users/tatesutter/anaconda3/envs/chicago-green/lib/python3.11/site-packages (from -r ../environment/requirements.txt (line 3)) (1.0.0)\n",
      "Requirement already satisfied: folium==0.14.0 in /Users/tatesutter/anaconda3/envs/chicago-green/lib/python3.11/site-packages (from -r ../environment/requirements.txt (line 4)) (0.14.0)\n",
      "Requirement already satisfied: matplotlib==3.8.0 in /Users/tatesutter/anaconda3/envs/chicago-green/lib/python3.11/site-packages (from -r ../environment/requirements.txt (line 5)) (3.8.0)\n",
      "Requirement already satisfied: numpy<2,>=1.23.2 in /Users/tatesutter/anaconda3/envs/chicago-green/lib/python3.11/site-packages (from pandas==2.1.3->-r ../environment/requirements.txt (line 1)) (1.26.2)\n",
      "Requirement already satisfied: python-dateutil>=2.8.2 in /Users/tatesutter/anaconda3/envs/chicago-green/lib/python3.11/site-packages (from pandas==2.1.3->-r ../environment/requirements.txt (line 1)) (2.8.2)\n",
      "Requirement already satisfied: pytz>=2020.1 in /Users/tatesutter/anaconda3/envs/chicago-green/lib/python3.11/site-packages (from pandas==2.1.3->-r ../environment/requirements.txt (line 1)) (2023.3.post1)\n",
      "Requirement already satisfied: tzdata>=2022.1 in /Users/tatesutter/anaconda3/envs/chicago-green/lib/python3.11/site-packages (from pandas==2.1.3->-r ../environment/requirements.txt (line 1)) (2023.3)\n",
      "Requirement already satisfied: fiona>=1.8.21 in /Users/tatesutter/anaconda3/envs/chicago-green/lib/python3.11/site-packages (from geopandas==0.14.1->-r ../environment/requirements.txt (line 2)) (1.9.5)\n",
      "Requirement already satisfied: packaging in /Users/tatesutter/anaconda3/envs/chicago-green/lib/python3.11/site-packages (from geopandas==0.14.1->-r ../environment/requirements.txt (line 2)) (23.1)\n",
      "Requirement already satisfied: pyproj>=3.3.0 in /Users/tatesutter/anaconda3/envs/chicago-green/lib/python3.11/site-packages (from geopandas==0.14.1->-r ../environment/requirements.txt (line 2)) (3.6.1)\n",
      "Requirement already satisfied: shapely>=1.8.0 in /Users/tatesutter/anaconda3/envs/chicago-green/lib/python3.11/site-packages (from geopandas==0.14.1->-r ../environment/requirements.txt (line 2)) (2.0.2)\n",
      "Requirement already satisfied: branca>=0.6.0 in /Users/tatesutter/anaconda3/envs/chicago-green/lib/python3.11/site-packages (from folium==0.14.0->-r ../environment/requirements.txt (line 4)) (0.6.0)\n",
      "Requirement already satisfied: jinja2>=2.9 in /Users/tatesutter/anaconda3/envs/chicago-green/lib/python3.11/site-packages (from folium==0.14.0->-r ../environment/requirements.txt (line 4)) (3.1.2)\n",
      "Requirement already satisfied: requests in /Users/tatesutter/anaconda3/envs/chicago-green/lib/python3.11/site-packages (from folium==0.14.0->-r ../environment/requirements.txt (line 4)) (2.31.0)\n",
      "Requirement already satisfied: contourpy>=1.0.1 in /Users/tatesutter/anaconda3/envs/chicago-green/lib/python3.11/site-packages (from matplotlib==3.8.0->-r ../environment/requirements.txt (line 5)) (1.2.0)\n",
      "Requirement already satisfied: cycler>=0.10 in /Users/tatesutter/anaconda3/envs/chicago-green/lib/python3.11/site-packages (from matplotlib==3.8.0->-r ../environment/requirements.txt (line 5)) (0.11.0)\n",
      "Requirement already satisfied: fonttools>=4.22.0 in /Users/tatesutter/anaconda3/envs/chicago-green/lib/python3.11/site-packages (from matplotlib==3.8.0->-r ../environment/requirements.txt (line 5)) (4.25.0)\n",
      "Requirement already satisfied: kiwisolver>=1.0.1 in /Users/tatesutter/anaconda3/envs/chicago-green/lib/python3.11/site-packages (from matplotlib==3.8.0->-r ../environment/requirements.txt (line 5)) (1.4.4)\n",
      "Requirement already satisfied: pillow>=6.2.0 in /Users/tatesutter/anaconda3/envs/chicago-green/lib/python3.11/site-packages (from matplotlib==3.8.0->-r ../environment/requirements.txt (line 5)) (10.0.1)\n",
      "Requirement already satisfied: pyparsing>=2.3.1 in /Users/tatesutter/anaconda3/envs/chicago-green/lib/python3.11/site-packages (from matplotlib==3.8.0->-r ../environment/requirements.txt (line 5)) (3.0.9)\n",
      "Requirement already satisfied: attrs>=19.2.0 in /Users/tatesutter/anaconda3/envs/chicago-green/lib/python3.11/site-packages (from fiona>=1.8.21->geopandas==0.14.1->-r ../environment/requirements.txt (line 2)) (23.1.0)\n",
      "Requirement already satisfied: certifi in /Users/tatesutter/anaconda3/envs/chicago-green/lib/python3.11/site-packages (from fiona>=1.8.21->geopandas==0.14.1->-r ../environment/requirements.txt (line 2)) (2023.11.17)\n",
      "Requirement already satisfied: click~=8.0 in /Users/tatesutter/anaconda3/envs/chicago-green/lib/python3.11/site-packages (from fiona>=1.8.21->geopandas==0.14.1->-r ../environment/requirements.txt (line 2)) (8.1.7)\n",
      "Requirement already satisfied: click-plugins>=1.0 in /Users/tatesutter/anaconda3/envs/chicago-green/lib/python3.11/site-packages (from fiona>=1.8.21->geopandas==0.14.1->-r ../environment/requirements.txt (line 2)) (1.1.1)\n",
      "Requirement already satisfied: cligj>=0.5 in /Users/tatesutter/anaconda3/envs/chicago-green/lib/python3.11/site-packages (from fiona>=1.8.21->geopandas==0.14.1->-r ../environment/requirements.txt (line 2)) (0.7.2)\n",
      "Requirement already satisfied: six in /Users/tatesutter/anaconda3/envs/chicago-green/lib/python3.11/site-packages (from fiona>=1.8.21->geopandas==0.14.1->-r ../environment/requirements.txt (line 2)) (1.16.0)\n",
      "Requirement already satisfied: setuptools in /Users/tatesutter/anaconda3/envs/chicago-green/lib/python3.11/site-packages (from fiona>=1.8.21->geopandas==0.14.1->-r ../environment/requirements.txt (line 2)) (68.2.2)\n",
      "Requirement already satisfied: MarkupSafe>=2.0 in /Users/tatesutter/anaconda3/envs/chicago-green/lib/python3.11/site-packages (from jinja2>=2.9->folium==0.14.0->-r ../environment/requirements.txt (line 4)) (2.1.1)\n",
      "Requirement already satisfied: charset-normalizer<4,>=2 in /Users/tatesutter/anaconda3/envs/chicago-green/lib/python3.11/site-packages (from requests->folium==0.14.0->-r ../environment/requirements.txt (line 4)) (2.0.4)\n",
      "Requirement already satisfied: idna<4,>=2.5 in /Users/tatesutter/anaconda3/envs/chicago-green/lib/python3.11/site-packages (from requests->folium==0.14.0->-r ../environment/requirements.txt (line 4)) (3.4)\n",
      "Requirement already satisfied: urllib3<3,>=1.21.1 in /Users/tatesutter/anaconda3/envs/chicago-green/lib/python3.11/site-packages (from requests->folium==0.14.0->-r ../environment/requirements.txt (line 4)) (1.26.18)\n"
     ]
    }
   ],
   "source": [
    "# run directly if disposable\n",
    "!pip install -r ../environment/requirements.txt"
   ]
  },
  {
   "cell_type": "code",
   "execution_count": 2,
   "metadata": {
    "scrolled": true,
    "tags": []
   },
   "outputs": [],
   "source": [
    "# Import modules, define directories\n",
    "from pyhere import here\n",
    "import geopandas as gpd\n",
    "import pandas as pd\n",
    "import folium as fm\n",
    "import matplotlib as mpl\n",
    "\n",
    "# You can define your own shortcuts for file paths:\n",
    "path = {\n",
    "    \"dscr\": here(\"data\", \"scratch\"),\n",
    "    \"drpub\": here(\"data\", \"raw\", \"public\"),\n",
    "    \"drpriv\": here(\"data\", \"raw\", \"private\"),\n",
    "    \"ddpub\": here(\"data\", \"derived\", \"public\"),\n",
    "    \"ddpriv\": here(\"data\", \"derived\", \"private\"),\n",
    "    \"rfig\": here(\"results\", \"figures\"),\n",
    "    \"roth\": here(\"results\", \"other\"),\n",
    "    \"rtab\": here(\"results\", \"tables\"),\n",
    "    \"dmet\": here(\"data\", \"metadata\")\n",
    "}"
   ]
  },
  {
   "cell_type": "markdown",
   "metadata": {
    "id": "dEwHjXmlVXZI",
    "tags": []
   },
   "source": [
    "### Data and variables\n",
    "\n",
    "The original lab and the reproduction study use the same data. All of the data is secondary data gathered from existing data sources. \n",
    "\n",
    "Each of the next subsections describes one data source.\n"
   ]
  },
  {
   "cell_type": "markdown",
   "metadata": {},
   "source": [
    "#### Census Tracts 2010\n",
    "\n",
    "**Standard Metadata**\n",
    "\n",
    "- `Abstract`: Census tracts are the most commonly used of the US Census units of data aggregation. Census tracts average 4,000 inhabitants but can range between 1,200 and 8,000. \n",
    "- `Spatial Coverage`: City of Chicago.\n",
    "- `Spatial Resolution`: Census Tracts.\n",
    "- `Spatial Reference System`: EPSG:6454\n",
    "- `Temporal Coverage`: 2010. Estimate of April 1st.\n",
    "- `Temporal Resolution`: The Census 2010 asked households to best answer the questions to be most accurate as of the 1st of April.\n",
    "- `Lineage`: Data comes from the Census through Steven Manson, Jonathan Schroeder, David Van Riper, and Steven Ruggles. IPUMS National Historical Geographic Information System: Version 13.0 [Database]. Minneapolis: University of Minnesota. 2018. Data can be accessed at https://doi.org/10.18128/D050.V12.0. \n",
    "- `Distribution`: Data can be accessed through Steven Manson, Jonathan Schroeder, David Van Riper, and Steven Ruggles. IPUMS National Historical Geographic Information System: Version 13.0 [Database]. Minneapolis: University of Minnesota. 2018. Data can be accessed at https://doi.org/10.18128/D050.V12.0. \n",
    "- `Constraints`: The data is free to access for registered users. \n",
    "- `Data Quality`: The data is published as the official representation of demographics within the United States. The Census notes that there is a level of uncertainty inherent to the data.\n",
    "- `Variables`: For each variable, enter the following information. If you have two or more variables per data source, you may want to present this information in table form (shown below)\n",
    "  - `Label`: variable name as used in the data or code\n",
    "  - `Alias`: intuitive natural language name\n",
    "  - `Definition`: Short description or definition of the variable. Include measurement units in description.\n",
    "  - `Type`: data type, e.g. character string, integer, real\n",
    "  - `Accuracy`: e.g. uncertainty of measurements\n",
    "  - `Domain`: Range (Maximum and Minimum) of numerical data, or codes or categories of nominal data, or reference to a standard codebook\n",
    "  - `Missing Data Value(s)`: Values used to represent missing data and frequency of missing data observations\n",
    "  - `Missing Data Frequency`: Frequency of missing data observations\n",
    "  \n",
    "  - N/A denotes not applicable. \n",
    "\n",
    "| Label | Alias | Definition | Type | Accuracy | Domain | Missing Data Value(s) | Missing Data Frequency |\n",
    "| :--: | :--: | :--: | :--: | :--: | :--: | :--: | :--: |\n",
    "| fid | Feature ID.| The fid is a feature ID for each row. This comes in as part of the imported .shapefile. | float64\n",
    " | N/A | 1-787 | N/A | N/A |\n",
    "| STATEFP10 | State Identification Code. | This code is unique for Illinois. | object | N/A | N/A | N/A | N/A |\n",
    "| COUNTYFP10 | County Identification Code. | This code is unique for a county within a state. | object | N/A | N/A | N/A | N/A |\n",
    "| TRACTCE10 | Tract Identification Code. | This code is unique for a tract within a county. | object | N/A | N/A | N/A | N/A |\n",
    "| GEOID10 | Geographic ID | GEOID10 is a unique identifier for the tract in the 2010 Census. It is a combination of the prior three codes.  | object | Each code is unique by tract. | N/A | N/A | N/A |\n",
    "| NAME10 | Census tract name. | The tract name refers to the TRACTCE10. | object | N/A | N/A | N/A | N/A |\n",
    "| NAMELSAD10 | Census tract name. | The tract name refers to the TRACTCE10 with a more descriptive title. | object | N/A | N/A | N/A | N/A |\n",
    "| GISJOIN | GISJOIN | Same as the GEOID10 with a ‘G’ before each value. It is used to group smaller geometries into the tract scale. | object | N/A | N/A | N/A | N/A |\n",
    "| PopTotal | Population Total | Total population in the tract. | float64 | N/A | 16498.0 | N/A | N/A |\n",
    "| Latinx | Latinx | Latinx population in the tract. | float64 | N/A | 6699.0 | N/A | N/A |\n",
    "| MedHouseVa | Median House Value | Median House Value in the tract. | float64 | N/A | 820200.0 | N/A | N/A |\n",
    "| MedGrossRe | Median Gross Rent | Median gross rent in the tract |float64 | N/A | 1818.0 | N/A | N/A | N/A |\n",
    "| pctWhite | Percent white | Percent of tract that identifies as non-Hispanic white. | float64 | 91.3 | N/A | N/A | N/A |\n",
    "| pctBlack | Percent Black | Percent of tract that identifies as non-Hispanic Black. | float64 | 99.2 | N/A | N/A | N/A |\n",
    "| pctLatinx | Percent Latinx | Percent of tract that identifies as Hispanic or Latino . | float64 | 98.7 | N/A | N/A | N/A |\n",
    "| pctAsian | Percent Asian | Percent of tract that identifies as non-Hispanic Asian. | float64 | 88.8\n",
    " | N/A | N/A | N/A |\n",
    "| majorGroup | Racial Majority Group | Racial group which makes up more then 60% of a tracts population. If no group makes up 60%, the tract is assigned ‘Mixed’. | object | ‘Black’, ‘White’, ‘Latinx’, ‘Asian’, ‘Mixed’ | N/A | N/A | N/A |\n",
    "| cbdDist | Distance from the Central Business District | The variable measures the distance from Chicago’s central business district. It is calculated in a GIS. It appears to be in km. | float64 | 25.687 | N/A | N/A | N/A |\n",
    "| cbdDir | Direction from the Central Business District | The direction of tracts from the central business district. It is calculated in a GIS. It appears to be in degrees. | float64 | 356.358 | N/A | N/A | N/A |\n",
    "| geometry | Geometry | The variable denotes the geometries of each Census tract. | geometry | N/A | N/A | N/A | N/A |\n"
   ]
  },
  {
   "cell_type": "code",
   "execution_count": 3,
   "metadata": {},
   "outputs": [],
   "source": [
    "# Load file.\n",
    "tracts2010 = gpd.read_file( here(path[\"drpub\"], \"tracts2010dirdist.shp\") )\n",
    "# Convert file to GeoDataFrame.\n",
    "tracts2010 = gpd.GeoDataFrame(tracts2010)"
   ]
  },
  {
   "cell_type": "markdown",
   "metadata": {},
   "source": [
    "#### Census Blocks 2010\n",
    "\n",
    "**Standard Metadata**\n",
    "\n",
    "- `Abstract`: Census blocks are the smallest unit of data released by the Census. Blocks are self-contained, bounded by visible (roads, railroads) and nonvisible (political boundaries, property lines) features, and do not have a population limit. \n",
    "- `Spatial Coverage`: City limits of Chicago, Illinois.\n",
    "- `Spatial Resolution`: Census Block.\n",
    "- `Spatial Reference System`: EPSG:6454\n",
    "- `Temporal Coverage`: 2010.\n",
    "- `Temporal Resolution`: The Census 2010 asked households to best answer the questions to be most accurate as of the 1st of April.\n",
    "- `Lineage`: Data comes from the Census through Steven Manson, Jonathan Schroeder, David Van Riper, and Steven Ruggles. IPUMS National Historical Geographic Information System: Version 13.0 [Database]. Minneapolis: University of Minnesota. 2018. Data can be accessed at https://doi.org/10.18128/D050.V12.0.\n",
    "- `Distribution`: Data can be accessed through Steven Manson, Jonathan Schroeder, David Van Riper, and Steven Ruggles. IPUMS National Historical Geographic Information System: Version 13.0 [Database]. Minneapolis: University of Minnesota. 2018. Data can be accessed at https://doi.org/10.18128/D050.V12.0. \n",
    "- `Constraints`: The data is free to access for registered users.\n",
    "- `Data Quality`: The data is published as the official representation of demographics within the United States. The Census notes that there is a level of uncertainty inherent to the data.\n",
    "- `Variables`: For each variable, enter the following information. If you have two or more variables per data source, you may want to present this information in table form (shown below)\n",
    "  - `Label`: variable name as used in the data or code\n",
    "  - `Alias`: intuitive natural language name\n",
    "  - `Definition`: Short description or definition of the variable. Include measurement units in description.\n",
    "  - `Type`: data type, e.g. character string, integer, real\n",
    "  - `Accuracy`: e.g. uncertainty of measurements\n",
    "  - `Domain`: Expected range of Maximum and Minimum of numerical data, or codes or categories of nominal data, or reference to a standard codebook\n",
    "  - `Missing Data Value(s)`: Values used to represent missing data and frequency of missing data observations\n",
    "  - `Missing Data Frequency`: Frequency of missing data observations: not yet known for data to be collected\n",
    "\n",
    " - N/A denotes not applicable.\n",
    "\n",
    "| Label | Alias | Definition | Type | Accuracy | Domain | Missing Data Value(s) | Missing Data Frequency |\n",
    "| :--: | :--: | :--: | :--: | :--: | :--: | :--: | :--: |\n",
    "| STATEFP10 | State Identification Code. | This code is unique for Illinois. | object | N/A | N/A | N/A | N/A |\n",
    "| COUNTYFP10 | County Identification Code. | This code is unique for a county within a state. | object | N/A | N/A | N/A | N/A |\n",
    "| TRACTCE10 | Tract Identification Code. | This code is unique for a tract within a county. | object | N/A | N/A | N/A | N/A |\n",
    "| BLOCKCE10 | Block Identification Code. | This code is unique for a block within a tract. | object | N/A | N/A | N/A | N/A |\n",
    "| GEOID10 | Geographic ID | GEOID10 is a unique identifier for the block in the 2010 Census. It is a combination of the prior four codes. | object | Each code is unique by block. | N/A | N/A | N/A |\n",
    "| NAME10 | Census block name. | The block name refers to the BLOCKCE10 value. | object | N/A | N/A | N/A | N/A |\n",
    "| MTFCC10 | N/A | N/A | object | N/A | ‘G5040’ | N/A | N/A |\n",
    "| UR10 | N/A | N/A | object | N/A | ‘U’ | N/A | N/A |\n",
    "| UACE10 | N/A | N/A | object | N/A | ‘16264’ | N/A | N/A |\n",
    "| UATYP10 | N/A | N/A | object | N/A | ‘U’ | N/A | N/A |\n",
    "| FUNCSTAT10 | N/A | N/A | object | N/A | ‘S’ | N/A | N/A |\n",
    "| ALAND10 | Area Land within Block | Area of land within Census block. The units are unclear. | int64 | N/A | 4733129 | N/A | N/A |\n",
    "| AWATER10 | Area Water within Block | Area of water within Census block. The units are unclear. | int64 | N/A | 4733129 | N/A | N/A |\n",
    "| GEO.id | Geometry ID | The values are a the same as ‘GEOID10’ with ‘1000000US’ added to the beginning. (‘1000000US’+’GEOID10’) | object | N/A | N/A | N/A | N/A |\n",
    "| GEO.displa | Census block name. | The tract name refers to the block with a descriptive title. | object | N/A | N/A | N/A | N/A |\n",
    "| D001 | Total population | Total population of block. | int64 | N/A | 9798 | N/A | N/A |\n",
    "| D002 | Hispanic or Latino | Hispanic or Latino population of a block.  | int64 | N/A | 1159 | N/A | N/A |\n",
    "| D003 | Not Hispanic or Latino | Non-Hispanic or non-Latino population of a block. | int64 | N/A | 8639 | N/A | N/A |\n",
    "| D004 | Not Hispanic or Latino: Population of one race | Non-Hispanic or non-Latino population of a block. | int64 | N/A | 8627 | N/A | N/A |\n",
    "| D005 | Not Hispanic or Latino: Population of one race: White alone | The non-Hispanic or non-Latino white alone population of a block. | int64 | N/A | 1410 | N/A | N/A |\n",
    "| D006 | Not Hispanic or Latino: Population of one race: Black or African American alone | The non-Hispanic or non-Latino Black or African American alone population of a block. | int64 | N/A | 7199 | N/A | N/A |\n",
    "| D007| Not Hispanic or Latino: Population of one race: American Indian and Alaska Native alone | The non-Hispanic or non-Latino American Indian and Alaska Native alone population of a block. | int64 | N/A | 17 | N/A | N/A |\n",
    "| D008| Not Hispanic or Latino: Population of one race: Asian alone | The non-Hispanic or non-Latino Asian alone population of a block. | int64 | N/A | 666 | N/A | N/A |\n",
    "| D009 | Not Hispanic or Latino: Population of one race: Native Hawaiian and Other Pacific Islander alone | The non-Hispanic or non-Latino Native Hawaiian and Other Pacific Islander alone population of a block. | int64 | N/A | 12 | N/A | N/A |\n",
    "| D010 | Not Hispanic or Latino: Population of one race: Some Other Race alone | The non-Hispanic or non-Latino Some Other Race alone population of a block | int64 | N/A | 32 | N/A | N/A |\n",
    "| geometry | Geometry | The variable denotes the geometries of each Census block. | geometry | N/A | N/A | N/A | N/A |\n"
   ]
  },
  {
   "cell_type": "code",
   "execution_count": 4,
   "metadata": {},
   "outputs": [],
   "source": [
    "# Load file.\n",
    "blocks2010 = gpd.read_file( here(path[\"drpub\"], \"blocks2010.shp\") )\n",
    "# Convert file to GeoDataFrame.\n",
    "blocks2010 = gpd.GeoDataFrame(blocks2010)"
   ]
  },
  {
   "cell_type": "markdown",
   "metadata": {},
   "source": [
    "#### Forests\n",
    "\n",
    "**Standard Metadata**\n",
    "\n",
    "- `Abstract`: Forest preserves within Chicago, Illinois.\n",
    "- `Spatial Coverage`: City limits of Chicago, Illinois.\n",
    "- `Spatial Resolution`: Meters.\n",
    "- `Spatial Reference System`: EPSG:6454\n",
    "- `Temporal Coverage`: Unknown.\n",
    "- `Temporal Resolution`: Unknown. \n",
    "- `Lineage`: Government Agency. Details unclear.\n",
    "- `Distribution`: Unknown. \n",
    "- `Constraints`: Unknown.\n",
    "- `Data Quality`: Unknown.\n",
    "- `Variables`: For each variable, enter the following information. If you have two or more variables per data source, you may want to present this information in table form (shown below)\n",
    "  - `Label`: variable name as used in the data or code\n",
    "  - `Alias`: intuitive natural language name\n",
    "  - `Definition`: Short description or definition of the variable. Include measurement units in description.\n",
    "  - `Type`: data type, e.g. character string, integer, real\n",
    "  - `Accuracy`: e.g. uncertainty of measurements\n",
    "  - `Domain`: Expected range of Maximum and Minimum of numerical data, or codes or categories of nominal data, or reference to a standard codebook\n",
    "  - `Missing Data Value(s)`: Values used to represent missing data and frequency of missing data observations\n",
    "  - `Missing Data Frequency`: Frequency of missing data observations: not yet known for data to be collected\n",
    "\n",
    " - N/A denotes not applicable.\n",
    "\n",
    "| Label | Alias | Definition | Type | Accuracy | Domain | Missing Data Value(s) | Missing Data Frequency |\n",
    "| :--: | :--: | :--: | :--: | :--: | :--: | :--: | :--: |\n",
    "| NAME | Name of Forest Preserve District of Cook County | These lands are part of the [Forest Preserve District of Cook County](https://fpdcc.com/) within the city of Chicago. | object | N/A | N/A | N/A | N/A |\n",
    "| geometry | Geometry | The variable denotes the geometries of each forest preserves. | geometry | N/A | N/A | N/A | N/A |\n"
   ]
  },
  {
   "cell_type": "code",
   "execution_count": 5,
   "metadata": {},
   "outputs": [],
   "source": [
    "# Load file.\n",
    "forest = gpd.read_file( here(path[\"drpub\"], \"forest.shp\") )\n",
    "# Convert file to GeoDataFrame.\n",
    "forest = gpd.GeoDataFrame(forest)\n",
    "# # Create foluim map. \n",
    "# m = fm.Map([41.88155337370558, -87.63007007169067], zoom_start=10, tiles = \"CartoDB Positron\")\n",
    "# # Add file to folium.\n",
    "# fm.GeoJson(forest).add_to(m)\n",
    "# # Visualize maps. \n",
    "# m"
   ]
  },
  {
   "cell_type": "markdown",
   "metadata": {},
   "source": [
    "#### Parks\n",
    "\n",
    "**Standard Metadata**\n",
    "\n",
    "- `Abstract`: Parks within Chicago, Illinois.\n",
    "- `Spatial Coverage`: City limits of Chicago, Illinois.\n",
    "- `Spatial Resolution`: Meters.\n",
    "- `Spatial Reference System`: EPSG:6454\n",
    "- `Temporal Coverage`: Unknown.\n",
    "- `Temporal Resolution`: Unknown. \n",
    "- `Lineage`: Government Agency. Details unclear.\n",
    "- `Distribution`: Unknown. \n",
    "- `Constraints`: Unknown.\n",
    "- `Data Quality`: Unknown.\n",
    "- `Variables`: For each variable, enter the following information. If you have two or more variables per data source, you may want to present this information in table form (shown below)\n",
    "  - `Label`: variable name as used in the data or code\n",
    "  - `Alias`: intuitive natural language name\n",
    "  - `Definition`: Short description or definition of the variable. Include measurement units in description.\n",
    "  - `Type`: data type, e.g. character string, integer, real\n",
    "  - `Accuracy`: e.g. uncertainty of measurements\n",
    "  - `Domain`: Expected range of Maximum and Minimum of numerical data, or codes or categories of nominal data, or reference to a standard codebook\n",
    "  - `Missing Data Value(s)`: Values used to represent missing data and frequency of missing data observations\n",
    "  - `Missing Data Frequency`: Frequency of missing data observations: not yet known for data to be collected\n",
    "\n",
    " - N/A denotes not applicable.\n",
    "\n",
    "| Label | Alias | Definition | Type | Accuracy | Domain | Missing Data Value(s) | Missing Data Frequency |\n",
    "| :--: | :--: | :--: | :--: | :--: | :--: | :--: | :--: |\n",
    "| parkName | Park Name. | Name of Chicago park. | object | N/A | N/A | N/A | N/A |\n",
    "| geometry | Geometry | The variable denotes the geometries of each park. | geometry | N/A | N/A | N/A | N/A |\n"
   ]
  },
  {
   "cell_type": "code",
   "execution_count": 6,
   "metadata": {},
   "outputs": [],
   "source": [
    "# Load file.\n",
    "parks = gpd.read_file( here(path[\"drpub\"], \"parks.shp\") )\n",
    "# Convert file to GeoDataFrame.\n",
    "parks = gpd.GeoDataFrame(parks)\n",
    "# # Create foluim map. \n",
    "# m = fm.Map([41.88155337370558, -87.63007007169067], zoom_start=10, tiles = \"CartoDB Positron\")\n",
    "# # Add file to folium.\n",
    "# fm.GeoJson(parks).add_to(m)\n",
    "# # Visualize maps. \n",
    "# m"
   ]
  },
  {
   "cell_type": "markdown",
   "metadata": {},
   "source": [
    "### Prior observations  \n",
    "\n",
    "At the time of this study pre-registration, the author has prior knowledge of the geography of the study region with regards to the replication phenomena to be studied. The author performed the original QGIS lab before this analysis. The reproduction follows the same workflow as the original lab. Mistakenly, the preregistration was written after the analysis was performed.\n",
    "\n",
    "For all sources of data, the author had interacted with the data while running the QGIS lab. Deeper investigations involving data provenance had not occurred.\n"
   ]
  },
  {
   "cell_type": "markdown",
   "metadata": {},
   "source": [
    "### Bias and threats to validity\n",
    "\n",
    "Edge effects pose the greatest threats to validity of the original lab and reproduction study. Green spaces outside the city limits of Chicago are not considered. Chicago denizens living near the city limits may access green spaces outside of Chicago that are not included in parks.shp or forest.shp files. Including green spaces within a 0.25 mile distance from the city limits of Chicago could account for edge effects.\n",
    "\n",
    "The initial lab design works to minimize occurrences of the modifiable areal unit problem (MAUP). Access is calculated at the Census’s smallest unit size, blocks. Employing blocks to calculate access and population measures forms a more accurate model of access to green spaces within Chicago. If tracts or block groups were used as the analysis’s base unit, the units could have contributed to the homogenization of Chicago’s heterogeneous housing landscape. \n",
    "\n",
    "The original lab and the reproduction do not account for spatial heterogeneity. Ignoring the reality of transportation infrastructure, private property, and other barriers to mobility, the analyses assume Chicago is an isotropic plane. Incorporating measures of mobility would improve and complicate the analyses. The simplification of Chicago’s geography decreases the validity of the results while still providing informative results. \n",
    "\n"
   ]
  },
  {
   "cell_type": "markdown",
   "metadata": {},
   "source": [
    "### Data transformations\n",
    "\n",
    "Two data transformations are performed. Green Spaces are created by a union of Parks and Forest. The union is simplified into a single multipart polygon. There are numerous ways to measure green spaces; however, this approach was decided in the original study. Secondly, the tracts data is simplified and dissolved into ‘tractsMaj’. Tracts are grouped by their ‘majorGroup’ to aggregate population data into the five ‘majorGroup’ values. \n",
    "\n"
   ]
  },
  {
   "cell_type": "markdown",
   "metadata": {},
   "source": [
    "#### Create Green Spaces"
   ]
  },
  {
   "cell_type": "code",
   "execution_count": 7,
   "metadata": {
    "scrolled": true
   },
   "outputs": [],
   "source": [
    "# Union forest and parks to create greenSpaces.\n",
    "greenSpaces = forest.overlay(parks, how='union')\n",
    "# Perform .unary_union to create single multipart polygon of green spaces.\n",
    "greenSpaces = greenSpaces.unary_union\n",
    "# Convert greenSpaces to GeoSeries.\n",
    "greenSpaces = gpd.GeoSeries(greenSpaces)\n",
    "# Set GeoSeries CRS.\n",
    "greenSpaces = greenSpaces.set_crs('epsg:6454')\n",
    "# # Visualize greenSpaces.\n",
    "# greenSpaces"
   ]
  },
  {
   "cell_type": "markdown",
   "metadata": {},
   "source": [
    "#### Create Majority Tracks"
   ]
  },
  {
   "cell_type": "code",
   "execution_count": 8,
   "metadata": {},
   "outputs": [
    {
     "data": {
      "text/html": [
       "<div>\n",
       "<style scoped>\n",
       "    .dataframe tbody tr th:only-of-type {\n",
       "        vertical-align: middle;\n",
       "    }\n",
       "\n",
       "    .dataframe tbody tr th {\n",
       "        vertical-align: top;\n",
       "    }\n",
       "\n",
       "    .dataframe thead th {\n",
       "        text-align: right;\n",
       "    }\n",
       "</style>\n",
       "<table border=\"1\" class=\"dataframe\">\n",
       "  <thead>\n",
       "    <tr style=\"text-align: right;\">\n",
       "      <th></th>\n",
       "      <th>majorGroup</th>\n",
       "      <th>geometry</th>\n",
       "      <th>totTract</th>\n",
       "      <th>PopTotal</th>\n",
       "    </tr>\n",
       "  </thead>\n",
       "  <tbody>\n",
       "    <tr>\n",
       "      <th>0</th>\n",
       "      <td>Asian</td>\n",
       "      <td>POLYGON ((358407.725 574382.741, 358401.906 57...</td>\n",
       "      <td>4</td>\n",
       "      <td>13875.0</td>\n",
       "    </tr>\n",
       "    <tr>\n",
       "      <th>1</th>\n",
       "      <td>Black</td>\n",
       "      <td>MULTIPOLYGON (((348871.269 570899.656, 348859....</td>\n",
       "      <td>269</td>\n",
       "      <td>755569.0</td>\n",
       "    </tr>\n",
       "    <tr>\n",
       "      <th>2</th>\n",
       "      <td>Latinx</td>\n",
       "      <td>MULTIPOLYGON (((350870.400 563932.375, 350872....</td>\n",
       "      <td>146</td>\n",
       "      <td>579637.0</td>\n",
       "    </tr>\n",
       "    <tr>\n",
       "      <th>3</th>\n",
       "      <td>Mixed</td>\n",
       "      <td>MULTIPOLYGON (((350889.211 563322.280, 350891....</td>\n",
       "      <td>178</td>\n",
       "      <td>669499.0</td>\n",
       "    </tr>\n",
       "    <tr>\n",
       "      <th>4</th>\n",
       "      <td>White</td>\n",
       "      <td>MULTIPOLYGON (((345676.237 567144.059, 345642....</td>\n",
       "      <td>190</td>\n",
       "      <td>660728.0</td>\n",
       "    </tr>\n",
       "  </tbody>\n",
       "</table>\n",
       "</div>"
      ],
      "text/plain": [
       "  majorGroup                                           geometry  totTract  \\\n",
       "0      Asian  POLYGON ((358407.725 574382.741, 358401.906 57...         4   \n",
       "1      Black  MULTIPOLYGON (((348871.269 570899.656, 348859....       269   \n",
       "2     Latinx  MULTIPOLYGON (((350870.400 563932.375, 350872....       146   \n",
       "3      Mixed  MULTIPOLYGON (((350889.211 563322.280, 350891....       178   \n",
       "4      White  MULTIPOLYGON (((345676.237 567144.059, 345642....       190   \n",
       "\n",
       "   PopTotal  \n",
       "0   13875.0  \n",
       "1  755569.0  \n",
       "2  579637.0  \n",
       "3  669499.0  \n",
       "4  660728.0  "
      ]
     },
     "execution_count": 8,
     "metadata": {},
     "output_type": "execute_result"
    }
   ],
   "source": [
    "# Create dictionary for GeoDataFrame of necesary columns. \n",
    "tractsDict = {'majorGroup':tracts2010.majorGroup, 'totTract':1,'PopTotal':tracts2010.PopTotal, 'geometry':tracts2010.geometry}\n",
    "# Create GeoDataFrame.\n",
    "tractsMaj = gpd.GeoDataFrame(tractsDict,crs='EPSG:6454')\n",
    "# Dissolve / group by majority racial group. Sum other values (PopTotal). \n",
    "tractsMaj = tractsMaj.dissolve(by='majorGroup', aggfunc = 'sum', as_index=False)\n",
    "# Visualize 'tractsMaj'. \n",
    "# tractsMaj.plot(column='majorGroup',legend=True)\n",
    "tractsMaj"
   ]
  },
  {
   "cell_type": "markdown",
   "metadata": {},
   "source": [
    "### Analysis\n",
    "\n",
    "The analysis follows the workflow within the [lab results](https://github.com/t-sutter/RPr-Chicago-Greenspaces/blob/main/docs/report/labResults.pdf). Spatial joins, buffers, dissolves, and centroids performed. Any variations or important instances are noted within the code. The code is heavily commented to improve readability.\n",
    "\n"
   ]
  },
  {
   "cell_type": "markdown",
   "metadata": {},
   "source": [
    "#### Create Green Spaces Buffer"
   ]
  },
  {
   "cell_type": "markdown",
   "metadata": {},
   "source": [
    "##### Note on Understanding the Code\n",
    "On line 2, a buffer of 0.25 miles is created around green spaces. The CRS is in meters; therefore, the buffer amount must be converted into meters. The resolution is set to 5 to match the original processing environment in QGIS. The default GeoPandas buffer resolution is 16. Without adjusting the resolution, the reproduction did not produce the orignal results."
   ]
  },
  {
   "cell_type": "code",
   "execution_count": 9,
   "metadata": {},
   "outputs": [],
   "source": [
    "# Buffer greenSpaces by 0.25 miles. Returns a GeoSeries.\n",
    "greenSpacesBuffer = greenSpaces.buffer((0.25*5280*0.3048), resolution=5)\n",
    "# Set crs of GeoSeries.\n",
    "greenSpacesBuffer.set_crs('epsg:6454')\n",
    "# After .sjoin with blocksCentroid two steps later, 1 denotes access to green space. \n",
    "data = {'greenSpace': ['1']}\n",
    "# Create GeoDataFrame.\n",
    "greenSpacesBuffer = gpd.GeoDataFrame(data, geometry = greenSpacesBuffer, crs='epsg:6454')\n",
    "# # Visualize greenSpacesBuffer.\n",
    "# greenSpacesBuffer"
   ]
  },
  {
   "cell_type": "markdown",
   "metadata": {},
   "source": [
    "#### Create Block Centroids"
   ]
  },
  {
   "cell_type": "code",
   "execution_count": 10,
   "metadata": {},
   "outputs": [],
   "source": [
    "# Create blocksCentroid variable equal to blocks2010.\n",
    "blocksCentroid = blocks2010\n",
    "# Create centroid column containing block centroid's coordinates. \n",
    "blocksCentroid['centroid'] = blocksCentroid.geometry.centroid\n",
    "# Set 'centroids' as geometry.\n",
    "blocksCentroid = blocksCentroid.set_geometry('centroid')\n",
    "# Remove 'geometry' column.\n",
    "blocksCentroid.pop(\"geometry\")\n",
    "# Rename 'centroid' column 'geometry.\n",
    "blocksCentroid.rename_geometry('geometry', inplace=True)"
   ]
  },
  {
   "cell_type": "markdown",
   "metadata": {},
   "source": [
    "#### Select Blocks with Access"
   ]
  },
  {
   "cell_type": "code",
   "execution_count": 11,
   "metadata": {},
   "outputs": [],
   "source": [
    "# Join blocksCentroid and greenSpacesBuffer to calculate blocks with within 0.25 of green spaces.\n",
    "blocks_w_access = gpd.sjoin(blocksCentroid, greenSpacesBuffer, how='left', predicate='intersects')\n",
    "# Remove unnecessary column.\n",
    "blocks_w_access.pop(\"index_right\")\n",
    "# Set geometry.\n",
    "blocks_w_access.set_geometry('geometry', inplace=True)\n",
    "# Drop rows that do not have access.\n",
    "blocks_w_access = blocks_w_access.dropna(axis=0, how='any', subset = 'greenSpace')\n",
    "# # Visualize blocks_w_access. \n",
    "# blocks_w_access"
   ]
  },
  {
   "cell_type": "markdown",
   "metadata": {},
   "source": [
    "#### Select Blocks with Access that have a Population"
   ]
  },
  {
   "cell_type": "code",
   "execution_count": 12,
   "metadata": {},
   "outputs": [],
   "source": [
    "blocksPop_w_access = blocks_w_access\n",
    "# Drop blocks that have no population. \n",
    "blocksPop_w_access = blocksPop_w_access[blocksPop_w_access.D001 != 0]\n",
    "# # Visualize blocksPop_w_access.\n",
    "# blocksPop_w_access"
   ]
  },
  {
   "cell_type": "markdown",
   "metadata": {},
   "source": [
    "#### Join Blocks with Access and a Population to Tracts."
   ]
  },
  {
   "cell_type": "markdown",
   "metadata": {},
   "source": [
    "##### Unplanned Deviation. \n",
    "I use the spatial predicate 'contains' to fullfil the Join Attribute by Location Summary tool in QGIS. I could not find a similar to in GeoPandas as Join Attribute by Location Summary. "
   ]
  },
  {
   "cell_type": "code",
   "execution_count": 13,
   "metadata": {},
   "outputs": [
    {
     "data": {
      "text/html": [
       "<div>\n",
       "<style scoped>\n",
       "    .dataframe tbody tr th:only-of-type {\n",
       "        vertical-align: middle;\n",
       "    }\n",
       "\n",
       "    .dataframe tbody tr th {\n",
       "        vertical-align: top;\n",
       "    }\n",
       "\n",
       "    .dataframe thead th {\n",
       "        text-align: right;\n",
       "    }\n",
       "</style>\n",
       "<table border=\"1\" class=\"dataframe\">\n",
       "  <thead>\n",
       "    <tr style=\"text-align: right;\">\n",
       "      <th></th>\n",
       "      <th>majorGroup</th>\n",
       "      <th>geometry</th>\n",
       "      <th>totTract</th>\n",
       "      <th>PopTotal</th>\n",
       "      <th>accessPop</th>\n",
       "    </tr>\n",
       "  </thead>\n",
       "  <tbody>\n",
       "    <tr>\n",
       "      <th>0</th>\n",
       "      <td>Asian</td>\n",
       "      <td>POLYGON ((358407.725 574382.741, 358401.906 57...</td>\n",
       "      <td>4</td>\n",
       "      <td>13875.0</td>\n",
       "      <td>10876</td>\n",
       "    </tr>\n",
       "    <tr>\n",
       "      <th>1</th>\n",
       "      <td>Black</td>\n",
       "      <td>MULTIPOLYGON (((348871.269 570899.656, 348859....</td>\n",
       "      <td>269</td>\n",
       "      <td>755569.0</td>\n",
       "      <td>482153</td>\n",
       "    </tr>\n",
       "    <tr>\n",
       "      <th>2</th>\n",
       "      <td>Latinx</td>\n",
       "      <td>MULTIPOLYGON (((350870.400 563932.375, 350872....</td>\n",
       "      <td>146</td>\n",
       "      <td>579637.0</td>\n",
       "      <td>332655</td>\n",
       "    </tr>\n",
       "    <tr>\n",
       "      <th>3</th>\n",
       "      <td>Mixed</td>\n",
       "      <td>MULTIPOLYGON (((350889.211 563322.280, 350891....</td>\n",
       "      <td>178</td>\n",
       "      <td>669499.0</td>\n",
       "      <td>510794</td>\n",
       "    </tr>\n",
       "    <tr>\n",
       "      <th>4</th>\n",
       "      <td>White</td>\n",
       "      <td>MULTIPOLYGON (((345676.237 567144.059, 345642....</td>\n",
       "      <td>190</td>\n",
       "      <td>660728.0</td>\n",
       "      <td>485254</td>\n",
       "    </tr>\n",
       "  </tbody>\n",
       "</table>\n",
       "</div>"
      ],
      "text/plain": [
       "  majorGroup                                           geometry  totTract  \\\n",
       "0      Asian  POLYGON ((358407.725 574382.741, 358401.906 57...         4   \n",
       "1      Black  MULTIPOLYGON (((348871.269 570899.656, 348859....       269   \n",
       "2     Latinx  MULTIPOLYGON (((350870.400 563932.375, 350872....       146   \n",
       "3      Mixed  MULTIPOLYGON (((350889.211 563322.280, 350891....       178   \n",
       "4      White  MULTIPOLYGON (((345676.237 567144.059, 345642....       190   \n",
       "\n",
       "   PopTotal  accessPop  \n",
       "0   13875.0      10876  \n",
       "1  755569.0     482153  \n",
       "2  579637.0     332655  \n",
       "3  669499.0     510794  \n",
       "4  660728.0     485254  "
      ]
     },
     "execution_count": 13,
     "metadata": {},
     "output_type": "execute_result"
    },
    {
     "data": {
      "image/png": "[encoded data removed]",
      "text/plain": [
       "<Figure size 640x480 with 1 Axes>"
      ]
     },
     "metadata": {},
     "output_type": "display_data"
    }
   ],
   "source": [
    "# Create dictionary for Population of Blocks with Access GeoDataFrame.\n",
    "blocksPopAccessDict = {'accessPop':blocksPop_w_access.D001, 'geometry':blocksPop_w_access.geometry}\n",
    "# Create GeoDataFrame.\n",
    "blocksPopAccess = gpd.GeoDataFrame(blocksPopAccessDict, crs='EPSG:6454')\n",
    "# Join Blocks and Tracts.\n",
    "blocksMajorityGroup = gpd.sjoin(blocksPopAccess, tractsMaj, how='inner', predicate='within')\n",
    "# Remove 'PopTotal' and 'index_right' from blocksMajorityGroup.\n",
    "blocksMajorityGroup.pop('PopTotal')\n",
    "blocksMajorityGroup.pop('index_right')\n",
    "# # Dissolve and sum blocksMajorityGroup by 'majorGroup'.\n",
    "tractsAccessPop = blocksMajorityGroup.dissolve(by='majorGroup', aggfunc = 'sum')\n",
    "# Join tractsMajor to tractsAccessPop to have PopTotal for tractsAccessPop. \n",
    "### I use a different predicate here than in the initial study.\n",
    "tractsAccessPop = gpd.sjoin(tractsMaj, tractsAccessPop, how='left', predicate='contains')\n",
    "# Remove 'index_right' and 'totTract_right'.\n",
    "tractsAccessPop.pop('index_right')\n",
    "tractsAccessPop.pop('totTract_right')\n",
    "# Rename 'totTract_left' to 'totTract'. \n",
    "tractsAccessPop = tractsAccessPop.rename(columns = {'totTract_left':'totTract'})\n",
    "# Visualize results. \n",
    "tractsMaj.plot(column='majorGroup',legend=True)\n",
    "tractsAccessPop"
   ]
  },
  {
   "cell_type": "markdown",
   "metadata": {},
   "source": [
    "#### Calculate Area of Majority Racial Group."
   ]
  },
  {
   "cell_type": "code",
   "execution_count": 14,
   "metadata": {},
   "outputs": [],
   "source": [
    "# Calculate and add area of each Majority Group to GeoDataFrame.\n",
    "tractsAccessPop['Area'] = tractsAccessPop.area\n",
    "# # Visualize tractsAccessPop. \n",
    "# tractsAccessPop"
   ]
  },
  {
   "cell_type": "markdown",
   "metadata": {},
   "source": [
    "#### Calculate Area Green Space per Majority Group"
   ]
  },
  {
   "cell_type": "code",
   "execution_count": 15,
   "metadata": {},
   "outputs": [],
   "source": [
    "# Create gs_df (greenSpace) GeoDataFrame. \n",
    "gsDict = {'geometry':greenSpaces.geometry}\n",
    "gs_df = gpd.GeoDataFrame(gsDict, crs='EPSG:6454')\n",
    "# Calculate intersection of Green Spaces and Majority Groups. \n",
    "grpTractsGrnSp =tractsAccessPop.overlay(gs_df, how='intersection')\n",
    "# Calculate area of Green Spaces in each Majority Group. \n",
    "grpTractsGrnSp['greenArea'] = grpTractsGrnSp.area\n",
    "# # Visualize grpTractsGrnSp.\n",
    "# grpTractsGrnSp"
   ]
  },
  {
   "cell_type": "markdown",
   "metadata": {},
   "source": [
    "#### Calculate Green Space Per Personal and Population with Access"
   ]
  },
  {
   "cell_type": "code",
   "execution_count": 16,
   "metadata": {},
   "outputs": [],
   "source": [
    "# Calculate % Population with Access column. \n",
    "grpTractsGrnSp['percentPopAccess'] = (grpTractsGrnSp.accessPop / grpTractsGrnSp.PopTotal)*100\n",
    "# Calculate % Population with Access column. \n",
    "grpTractsGrnSp['greenPerPerson'] = (grpTractsGrnSp.greenArea / grpTractsGrnSp.PopTotal)\n",
    "# # Visualize grpTractsGrnSp.\n",
    "# grpTractsGrnSp"
   ]
  },
  {
   "cell_type": "markdown",
   "metadata": {},
   "source": [
    "#### Format Reproduction Results"
   ]
  },
  {
   "cell_type": "code",
   "execution_count": 17,
   "metadata": {},
   "outputs": [
    {
     "data": {
      "text/html": [
       "<div>\n",
       "<style scoped>\n",
       "    .dataframe tbody tr th:only-of-type {\n",
       "        vertical-align: middle;\n",
       "    }\n",
       "\n",
       "    .dataframe tbody tr th {\n",
       "        vertical-align: top;\n",
       "    }\n",
       "\n",
       "    .dataframe thead th {\n",
       "        text-align: right;\n",
       "    }\n",
       "</style>\n",
       "<table border=\"1\" class=\"dataframe\">\n",
       "  <thead>\n",
       "    <tr style=\"text-align: right;\">\n",
       "      <th></th>\n",
       "      <th>Majority Group</th>\n",
       "      <th>Tracts</th>\n",
       "      <th>Population</th>\n",
       "      <th>accessPop</th>\n",
       "      <th>Area (sqm)</th>\n",
       "      <th>Green Space Area (sqm)</th>\n",
       "      <th>Percent Population with Access</th>\n",
       "      <th>Green Space per Person (sqm)</th>\n",
       "    </tr>\n",
       "  </thead>\n",
       "  <tbody>\n",
       "    <tr>\n",
       "      <th>1</th>\n",
       "      <td>Black</td>\n",
       "      <td>269</td>\n",
       "      <td>755569</td>\n",
       "      <td>482153</td>\n",
       "      <td>196481793.6</td>\n",
       "      <td>13498778.1</td>\n",
       "      <td>63.8</td>\n",
       "      <td>17.9</td>\n",
       "    </tr>\n",
       "    <tr>\n",
       "      <th>3</th>\n",
       "      <td>Mixed</td>\n",
       "      <td>178</td>\n",
       "      <td>669499</td>\n",
       "      <td>510794</td>\n",
       "      <td>145342623.2</td>\n",
       "      <td>8965316.5</td>\n",
       "      <td>76.3</td>\n",
       "      <td>13.4</td>\n",
       "    </tr>\n",
       "    <tr>\n",
       "      <th>4</th>\n",
       "      <td>White</td>\n",
       "      <td>190</td>\n",
       "      <td>660728</td>\n",
       "      <td>485254</td>\n",
       "      <td>118606373.7</td>\n",
       "      <td>11511111.4</td>\n",
       "      <td>73.4</td>\n",
       "      <td>17.4</td>\n",
       "    </tr>\n",
       "    <tr>\n",
       "      <th>2</th>\n",
       "      <td>Latinx</td>\n",
       "      <td>146</td>\n",
       "      <td>579637</td>\n",
       "      <td>332655</td>\n",
       "      <td>96215419.6</td>\n",
       "      <td>2667938.9</td>\n",
       "      <td>57.4</td>\n",
       "      <td>4.6</td>\n",
       "    </tr>\n",
       "    <tr>\n",
       "      <th>0</th>\n",
       "      <td>Asian</td>\n",
       "      <td>4</td>\n",
       "      <td>13875</td>\n",
       "      <td>10876</td>\n",
       "      <td>1983068.4</td>\n",
       "      <td>27682.5</td>\n",
       "      <td>78.4</td>\n",
       "      <td>2.0</td>\n",
       "    </tr>\n",
       "  </tbody>\n",
       "</table>\n",
       "</div>"
      ],
      "text/plain": [
       "  Majority Group  Tracts  Population  accessPop   Area (sqm)  \\\n",
       "1          Black     269      755569     482153  196481793.6   \n",
       "3          Mixed     178      669499     510794  145342623.2   \n",
       "4          White     190      660728     485254  118606373.7   \n",
       "2         Latinx     146      579637     332655   96215419.6   \n",
       "0          Asian       4       13875      10876    1983068.4   \n",
       "\n",
       "   Green Space Area (sqm)  Percent Population with Access  \\\n",
       "1              13498778.1                            63.8   \n",
       "3               8965316.5                            76.3   \n",
       "4              11511111.4                            73.4   \n",
       "2               2667938.9                            57.4   \n",
       "0                 27682.5                            78.4   \n",
       "\n",
       "   Green Space per Person (sqm)  \n",
       "1                          17.9  \n",
       "3                          13.4  \n",
       "4                          17.4  \n",
       "2                           4.6  \n",
       "0                           2.0  "
      ]
     },
     "execution_count": 17,
     "metadata": {},
     "output_type": "execute_result"
    }
   ],
   "source": [
    "# Convert GeoDataFrame to DataFrame. Drop 'geometry' column.\n",
    "resultsDF = pd.DataFrame(grpTractsGrnSp.drop(columns='geometry'))\n",
    "# Rename DataFrame's columns.\n",
    "resultsDF = resultsDF.rename(columns = {'majorGroup':'Majority Group', 'totTract':'Tracts',\n",
    "                                        'PopTotal':'Population', 'Area':'Area (sqm)', 'greenArea':'Green Space Area (sqm)',\n",
    "                                        'percentPopAccess':'Percent Population with Access',\n",
    "                                        'greenPerPerson':'Green Space per Person (sqm)'})\n",
    "# Convert 'Population' to int64 data type. \n",
    "resultsDF = resultsDF.astype({'Population':int})\n",
    "# Round attributes to one decimal places.\n",
    "resultsDF = resultsDF.round(decimals=1)\n",
    "# Reindex DataFrame.\n",
    "resultsDF = resultsDF.reindex([1, 3, 4, 2, 0])\n",
    "# Export DataFrame\n",
    "resultsDF.to_csv(here(path[\"rtab\"], 'tractsAccess.csv'), index=False)\n",
    "# Visualize results.\n",
    "resultsDF"
   ]
  },
  {
   "cell_type": "markdown",
   "metadata": {},
   "source": [
    "#### Original Study Results"
   ]
  },
  {
   "cell_type": "code",
   "execution_count": 18,
   "metadata": {},
   "outputs": [
    {
     "data": {
      "text/html": [
       "<div>\n",
       "<style scoped>\n",
       "    .dataframe tbody tr th:only-of-type {\n",
       "        vertical-align: middle;\n",
       "    }\n",
       "\n",
       "    .dataframe tbody tr th {\n",
       "        vertical-align: top;\n",
       "    }\n",
       "\n",
       "    .dataframe thead th {\n",
       "        text-align: right;\n",
       "    }\n",
       "</style>\n",
       "<table border=\"1\" class=\"dataframe\">\n",
       "  <thead>\n",
       "    <tr style=\"text-align: right;\">\n",
       "      <th></th>\n",
       "      <th>Majority Tracts</th>\n",
       "      <th>Tracts</th>\n",
       "      <th>Population</th>\n",
       "      <th>Population with Access</th>\n",
       "      <th>Area (sqm)</th>\n",
       "      <th>Green Space Area (sqm)</th>\n",
       "      <th>Percent Population with Access</th>\n",
       "      <th>Green Space Per Person (sqm)</th>\n",
       "    </tr>\n",
       "  </thead>\n",
       "  <tbody>\n",
       "    <tr>\n",
       "      <th>0</th>\n",
       "      <td>Black</td>\n",
       "      <td>269</td>\n",
       "      <td>755569</td>\n",
       "      <td>482153</td>\n",
       "      <td>196481794</td>\n",
       "      <td>13498778</td>\n",
       "      <td>63.8</td>\n",
       "      <td>17.9</td>\n",
       "    </tr>\n",
       "    <tr>\n",
       "      <th>1</th>\n",
       "      <td>Mixed</td>\n",
       "      <td>178</td>\n",
       "      <td>669499</td>\n",
       "      <td>510794</td>\n",
       "      <td>145342623</td>\n",
       "      <td>8965317</td>\n",
       "      <td>76.3</td>\n",
       "      <td>13.4</td>\n",
       "    </tr>\n",
       "    <tr>\n",
       "      <th>2</th>\n",
       "      <td>White</td>\n",
       "      <td>190</td>\n",
       "      <td>660728</td>\n",
       "      <td>485254</td>\n",
       "      <td>118606374</td>\n",
       "      <td>11511111</td>\n",
       "      <td>73.4</td>\n",
       "      <td>17.4</td>\n",
       "    </tr>\n",
       "    <tr>\n",
       "      <th>3</th>\n",
       "      <td>Latinx</td>\n",
       "      <td>146</td>\n",
       "      <td>579637</td>\n",
       "      <td>332655</td>\n",
       "      <td>96215420</td>\n",
       "      <td>2667939</td>\n",
       "      <td>57.4</td>\n",
       "      <td>4.6</td>\n",
       "    </tr>\n",
       "    <tr>\n",
       "      <th>4</th>\n",
       "      <td>Asian</td>\n",
       "      <td>4</td>\n",
       "      <td>13875</td>\n",
       "      <td>10876</td>\n",
       "      <td>1983068</td>\n",
       "      <td>27683</td>\n",
       "      <td>78.4</td>\n",
       "      <td>2.0</td>\n",
       "    </tr>\n",
       "  </tbody>\n",
       "</table>\n",
       "</div>"
      ],
      "text/plain": [
       "  Majority Tracts Tracts Population Population with Access Area (sqm)  \\\n",
       "0           Black    269     755569                 482153  196481794   \n",
       "1           Mixed    178     669499                 510794  145342623   \n",
       "2           White    190     660728                 485254  118606374   \n",
       "3          Latinx    146     579637                 332655   96215420   \n",
       "4           Asian      4      13875                  10876    1983068   \n",
       "\n",
       "  Green Space Area (sqm) Percent Population with Access  \\\n",
       "0               13498778                           63.8   \n",
       "1                8965317                           76.3   \n",
       "2               11511111                           73.4   \n",
       "3                2667939                           57.4   \n",
       "4                  27683                           78.4   \n",
       "\n",
       "  Green Space Per Person (sqm)  \n",
       "0                         17.9  \n",
       "1                         13.4  \n",
       "2                         17.4  \n",
       "3                          4.6  \n",
       "4                          2.0  "
      ]
     },
     "execution_count": 18,
     "metadata": {},
     "output_type": "execute_result"
    }
   ],
   "source": [
    "# Import original study results.\n",
    "origTable = gpd.read_file( here(path[\"rtab\"], \"origResults.csv\") )\n",
    "# Convert to DataFrame.\n",
    "origTable = pd.DataFrame(origTable)\n",
    "# Remove geometry column.\n",
    "origTable.pop('geometry')\n",
    "# Visualize the original study's results.\n",
    "origTable"
   ]
  },
  {
   "cell_type": "markdown",
   "metadata": {},
   "source": [
    "## Results\n",
    "\n",
    "The reproduction study’s results match the original lab’s results.\n",
    "The results can be seen in the second to last dataframe in the analysis.\n",
    "The last dataframe is the original lab’s results.\n",
    "The saved .csv file `resultsDF.to_csv(here(path[\"rtab\"], 'tractsAccess.csv'), index=False)` matches the original results `‘origTable = gpd.read_file( here(path[\"rtab\"], \"origResults.csv\") )`. \n",
    "The only difference is that the Green Space Area columns are rounded to different decimal places.\n",
    "The reproduction did not reproduce the map found in the [original lab](https://github.com/t-sutter/RPr-Chicago-Greenspaces/blob/main/docs/report/originalStudy.pdf). \n",
    "The reproduction focuses on the geospatial abilities of geopandas and pandas and geospatial Python’s cartographic abilities. \n"
   ]
  },
  {
   "cell_type": "markdown",
   "metadata": {},
   "source": [
    "## Discussion\n",
    "\n",
    "The hypothesis that the original QGIS lab could be reproduced in Python using pandas and geopandas packages proved true.\n",
    "The geoprocessing abilities of the geopandas package can be utilized in **this case** to exactly reproduce the original lab.\n",
    "This reproduction of a relatively simple analysis does not mean all QGIS analyses can be reproduced in geopandas. \n",
    "\n",
    "Different GIS softwares and tools can produce different answers for the same analysis due to differences in their construction. \n",
    "Calculating the distance between a point and a polygon where the reference point of the polygon matters.\n",
    "If different softwares selects different points, unequal distances will be produced. \n",
    "Even if the tools in geopandas and QGIS are the same— they most likely are built upon the same packages like GDAL– their tools default values and input names are different. \n",
    "Understanding the difference in function parameters can prove more challenging than translating QGIS analysis into Python and geopandas. \n",
    "\n",
    "The study provides descriptive statistics of green space access in Chicago.\n",
    "Asian, mixed, and white majority tracts have the highest percentage of population with access to green space. \n",
    "Asian majority tracts have access to smaller green spaces. \n",
    "While 78.4% of people living in Asian majority tracts have access to green space, they have the lowest green space per person at 2.0 square meters per person. \n",
    "Majority Black tracts have the most green space per person at 17.9 square meters per person; however, majority Black tracts have the second lowest percentage of access to green spaces at 63.8%. \n",
    "The percentage of the population with access to green spaces grants a good measure to understand the unequal geography of access to green spaces in Chicago. \n",
    "Green spaces per person offers a measure of the quality of access. \n",
    "Access to a corner lot park is different from access to a multi-acre forested park. \n",
    "Both serve a function, but they should not be considered the same. \n",
    "\n",
    "Discourses in urban green space studies challenge if designated parks and forests should be the measure of green spaces.\n",
    "Some argue that a NDVI index would better capture the “green” of green spaces.\n",
    "Others argue for a hierarchy within parks. \n",
    "Parks with shady tree canopies and large amounts of land could provide greater health benefits ([Zhang et al 2019](https://doi.org/10.3390/ijerph16040578)). \n",
    "The replication study does not enter the discourse on what should be considered green spaces although it notes the lack of consensus to better situate the results.\n"
   ]
  },
  {
   "cell_type": "markdown",
   "metadata": {},
   "source": [
    "## Conclusion\n",
    "\n",
    "The reproduction of the lab, [*Urban Environmental Justice of Green Space Access in Chicago*](https://github.com/t-sutter/RPr-Chicago-Greenspaces/blob/main/docs/report/originalStudy.pdf), succeeds in reproducing the original QGIS calculated results in Python with the geopandas package.\n",
    "The reproduction validates the initial results and suggests the analytical similarities between geopandas and QGIS when accounting for fusion names and parameters prove manageable. \n",
    "Edge effect and spatial heterogeneity may threaten the validity of the modeling of actual green space access in Chicago. \n",
    "Though a relatively simple geospatial analysis, the reproduction of a QGIS analysis in Python with geopandas synthesizes two popular open source geographic information systems. \n",
    "Working between the two GIS softwares furthers the open source ethos of collaborative research and development. \n",
    "Both softwares have strengths in different aspects of geospatial analysis while increasing access to solve geospatial analyses. \n"
   ]
  },
  {
   "cell_type": "markdown",
   "metadata": {},
   "source": [
    "## Integrity Statement\n",
    "\n",
    "No other pre-registration exists for this study; however, the pre-registration was written after the reproduction had begun. The unorthodox order should not impact the results of the study. The reproduction followed the original study’s workflow which was created before the analysis was run. \n"
   ]
  },
  {
   "cell_type": "markdown",
   "metadata": {},
   "source": [
    "# Acknowledgements\n",
    "\n",
    "This reproduction was completed for the Middlebury College Department of Geography course GEOG 361: Open GIScience in Fall 2023. The course was taught by Professor Joseph Holler, PhD.\n",
    "\n",
    "This report is based upon the template for Reproducible and Replicable Research in Human-Environment and Geographical Sciences, DOI:[10.17605/OSF.IO/W29MQ](https://doi.org/10.17605/OSF.IO/W29MQ)"
   ]
  },
  {
   "cell_type": "markdown",
   "metadata": {},
   "source": [
    "## References"
   ]
  },
  {
   "cell_type": "markdown",
   "metadata": {},
   "source": [
    "Steven Manson, Jonathan Schroeder, David Van Riper, and Steven Ruggles. National Historical Geographic Information System: Version 13.0 [dataset]. Minneapolis, MN: IPUMS, 2018. https://doi.org/10.18128/D050.V13.0 \n",
    "\n",
    "Tullis, Jason A., and Bandana Kar. “Where Is the Provenance? Ethical Replicability and Reproducibility in GIScience and Its Critical Applications.” Annals of the American Association of Geographers 111, no. 5 (July 29, 2021): 1318–28. https://doi.org/10.1080/24694452.2020.1806029.\n",
    "\n",
    "Wilson, John P., Kevin Butler, Song Gao, Yingjie Hu, Wenwen Li, and Dawn J. Wright. “A Five-Star Guide for Achieving Replicability and Reproducibility When Working with GIS Software and Algorithms.” Annals of the American Association of Geographers 111, no. 5 (July 29, 2021): 1311–17. https://doi.org/10.1080/24694452.2020.1806026.\n",
    "\n",
    "Zhang, Liqing, and Puay Yok Tan. “Associations between Urban Green Spaces and Health Are Dependent on the Analytical Scale and How Urban Green Spaces Are Measured.” International Journal of Environmental Research and Public Health 16, no. 4 (2019). https://doi.org/10.3390/ijerph16040578.\n"
   ]
  }
 ],
 "metadata": {
  "colab": {
   "provenance": []
  },
  "kernelspec": {
   "display_name": "Python 3 (ipykernel)",
   "language": "python",
   "name": "python3"
  },
  "language_info": {
   "codemirror_mode": {
    "name": "ipython",
    "version": 3
   },
   "file_extension": ".py",
   "mimetype": "text/x-python",
   "name": "python",
   "nbconvert_exporter": "python",
   "pygments_lexer": "ipython3",
   "version": "3.11.5"
  }
 },
 "nbformat": 4,
 "nbformat_minor": 4
}
